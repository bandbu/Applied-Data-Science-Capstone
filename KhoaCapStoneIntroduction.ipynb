{
 "cells": [
  {
   "cell_type": "markdown",
   "metadata": {},
   "source": [
    "# Capstone: Find the best neighborhood in Toronto to open a Coffee shop\n",
    "\n",
    "<i>By Vu Khoa 2021</i>\n",
    "\n",
    "<h2> Introduction: </h2\n",
    "<p>\n",
    "My best friend, mr.Hung wanted to open his very first coffeshop in the town, and he didn't know what to do, then he has asked me for help in trying to determine which neighborhood in Toronto he should open his new store in. <br>\n",
    "\n",
    "I begin with an interview with my friend to determine the requirements.<br>\n",
    "    <h3>Problem Description:</h3>\n",
    "\n",
    "Which neighborhood should my friend open his coffeshop in Toronto? <br>\n",
    "He wants to ensure steady and sustainable business.<br>\n",
    "</p>\n",
    "<h2> Requirements:</h2>\n",
    "<p>\n",
    "<b>1. shop needs to be strategically located inside the biggest concentration of coffee shops in Toronto area.</b>\n",
    "\n",
    "<b> 2. Confirm any assumption by means of modeling and testing the data. Specifically, visually cluster common coffee shops in Toronto by neighborhood.</b> <br>\n",
    "<b> 3. Additionally determine that a good number people can frequent these coffee shops with sustainable frequency inside these neighborhoods.</b> <br>\n",
    "    a.) Is the neighborhood populous? <br>\n",
    "    b.) Is the neighborhood average salary close to the Canadian National Average? <br>\n",
    "    \n",
    "My friend wants to be able to judge which neighborhoods also may be poised to grow in coffee shops numbers in coming years.\n",
    "\n",
    "Locating his new store according to these requirements will ensure the following: \n",
    "- lowest cost for delivery \n",
    "- shortest travel time to his store for his clients\n",
    "- overall lower run costs \n",
    "- increase in overall business\n",
    "- overall greater customer satisfaction \n",
    "</p>\n",
    "\n",
    "\n"
   ]
  },
  {
   "cell_type": "markdown",
   "metadata": {},
   "source": []
  }
 ],
 "metadata": {
  "kernelspec": {
   "display_name": "Python 3",
   "language": "python",
   "name": "python3"
  },
  "language_info": {
   "codemirror_mode": {
    "name": "ipython",
    "version": 3
   },
   "file_extension": ".py",
   "mimetype": "text/x-python",
   "name": "python",
   "nbconvert_exporter": "python",
   "pygments_lexer": "ipython3",
   "version": "3.8.6"
  }
 },
 "nbformat": 4,
 "nbformat_minor": 2
}
