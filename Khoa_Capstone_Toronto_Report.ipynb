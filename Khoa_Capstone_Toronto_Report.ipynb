{
 "cells": [
  {
   "cell_type": "markdown",
   "id": "954872eb",
   "metadata": {},
   "source": [
    "<h1>Find the best neighborhood in Toronto to open a Coffee shop.</h1>"
   ]
  },
  {
   "cell_type": "markdown",
   "id": "b9fe6abb",
   "metadata": {},
   "source": [
    "<i>Vu Khoa 2021"
   ]
  },
  {
   "cell_type": "markdown",
   "id": "b0c3d295",
   "metadata": {},
   "source": [
    "<h2> Introduction: </h2\n",
    "<p>\n",
    "My best friend, mr.Hung wanted to open his very first coffeshop in the town, and he didn't know what to do, then he has asked me for help in trying to determine which neighborhood in Toronto he should open his new store in. <br>\n",
    "\n",
    "I begin with an interview with my friend to determine the requirements.<br>\n",
    "    <h3>Problem Description:</h3>\n",
    "\n",
    "Which neighborhood should my friend open his coffeshop in Toronto? <br>\n",
    "He wants to ensure steady and sustainable business.<br>\n",
    "</p>\n",
    "<h2> Requirements:</h2>\n",
    "<p>\n",
    "<b>1. shop needs to be strategically located inside the biggest concentration of coffee shops in Toronto area.</b>\n",
    "\n",
    "<b> 2. Confirm any assumption by means of modeling and testing the data. Specifically, visually cluster common coffee shops in Toronto by neighborhood.</b> <br>\n",
    "<b> 3. Additionally determine that a good number people can frequent these coffee shops with sustainable frequency inside these neighborhoods.</b> <br>\n",
    "    a.) Is the neighborhood populous? <br>\n",
    "    b.) Is the neighborhood average salary close to the Canadian National Average? <br>\n",
    "    \n",
    "My friend wants to be able to judge which neighborhoods also may be poised to grow in coffee shops numbers in coming years.\n",
    "\n",
    "Locating his new store according to these requirements will ensure the following: \n",
    "- lowest cost for delivery \n",
    "- shortest travel time to his store for his clients\n",
    "- overall lower run costs \n",
    "- increase in overall business\n",
    "- overall greater customer satisfaction \n",
    "</p>"
   ]
  },
  {
   "cell_type": "markdown",
   "id": "0d9a0af4",
   "metadata": {},
   "source": [
    "<h2>1.Data Collection </h2>\n",
    "You can follow along in my Capstone Notebook located here:<br>\n",
    "https://github.com/bandbu/Applied-Data-Science-Capstone/blob/da0ff99689140ba1d5b4629b017c328117e8eff7/Khoa_Capstone_Toronto_Notebook.ipynb<br>\n",
    "<h3>1.1 Toronto neighborhoods broken down by postal code.</h3> <br>\n",
    "<b>Data Wrangling</b><br>\n",
    "A lot of hard work went into creating the working data set.<br>\n",
    "I had to combine the following disparate data sources. The order of events went like this<br>\n",
    "1. Load all the Data from all the various sources.<br>\n",
    "1.1 Toronto neighborhoods broken down by postal code<br>\n",
    "https://en.wikipedia.org/wiki/List_of_postal_codes_of_Canada:_M<br>\n",
    "<i>Here I used BeautifulSoup to scrape the wiki page to extract a working list of Toronto Neighborhoods sorted by postal code.</i>"
   ]
  },
  {
   "cell_type": "markdown",
   "id": "9c01ed43",
   "metadata": {},
   "source": [
    "<b>1.2 Load Toronto geospatial cooridinates and merge to Toronto Postal Code Data"
   ]
  },
  {
   "cell_type": "markdown",
   "id": "7bbd86d1",
   "metadata": {},
   "source": [
    "<b>1.3 Toronto neighborhoods populations broken down by postal code"
   ]
  },
  {
   "cell_type": "markdown",
   "id": "827461f2",
   "metadata": {},
   "source": [
    "<b>1.4 Merge Toronto Neighbourhood populations data with Toronto Postal Code data"
   ]
  },
  {
   "cell_type": "markdown",
   "id": "a0d64620",
   "metadata": {},
   "source": [
    "<b>1.5 Toronto neighborhoods average after tax income broken down by postal code"
   ]
  },
  {
   "cell_type": "markdown",
   "id": "51620cca",
   "metadata": {},
   "source": [
    "<b>1.6 Merge Toronto Neighbourhood income data with Toronto Postal Code data"
   ]
  },
  {
   "cell_type": "markdown",
   "id": "f6d7bb16",
   "metadata": {},
   "source": [
    "<h1>2.Explore and cluster the neighborhoods in Toronto</h1>"
   ]
  },
  {
   "cell_type": "markdown",
   "id": "6069eb86",
   "metadata": {},
   "source": [
    "<i> List all geo_data of toronto"
   ]
  },
  {
   "cell_type": "markdown",
   "id": "47c3eebd",
   "metadata": {},
   "source": [
    "<i>Let's check how many venues were returned for each neighborhood"
   ]
  },
  {
   "cell_type": "markdown",
   "id": "d3e095e7",
   "metadata": {},
   "source": [
    "<b>Let's find out how many unique categories can be curated from all the returned venues"
   ]
  },
  {
   "cell_type": "markdown",
   "id": "862057b0",
   "metadata": {},
   "source": [
    "<b>1.7 Only Coffee shops or Coffee related are added as Venue Categories"
   ]
  },
  {
   "cell_type": "markdown",
   "id": "4e2c7731",
   "metadata": {},
   "source": [
    "<h2> Analyze Each Neighborhood"
   ]
  },
  {
   "cell_type": "markdown",
   "id": "17c1c8b0",
   "metadata": {},
   "source": [
    "<h2> Group rows by neighborhood and by by taking the mean of the frequency of occurrence of each category"
   ]
  },
  {
   "cell_type": "markdown",
   "id": "896393a8",
   "metadata": {},
   "source": [
    "<h3> Print out top 3 most common venues each neighborhood"
   ]
  },
  {
   "cell_type": "markdown",
   "id": "9edf9e38",
   "metadata": {},
   "source": [
    "<H1>2.Cluster Neighborhoods</h1>"
   ]
  },
  {
   "cell_type": "markdown",
   "id": "043b0c37",
   "metadata": {},
   "source": [
    "<h3>2.1 Finding cluster base on ration café, coffee shop and food & Drink Shop</h3>"
   ]
  },
  {
   "cell_type": "markdown",
   "id": "212b3809",
   "metadata": {},
   "source": [
    "<b>2.1.1 Finding the best cluster"
   ]
  },
  {
   "cell_type": "markdown",
   "id": "b59a9f48",
   "metadata": {},
   "source": [
    "<b>2.1.2 Run K means and segment data into clusters and generate labels"
   ]
  },
  {
   "cell_type": "markdown",
   "id": "aa72c3e5",
   "metadata": {},
   "source": [
    "<b>2.1.3 Remove anlabeled rows #caution!!!!!!!!!!!!!!!!!!!"
   ]
  },
  {
   "cell_type": "markdown",
   "id": "5b8f5b6f",
   "metadata": {},
   "source": [
    "<h3>2.2 Finding cluster base on populations broken down and income </h3>"
   ]
  },
  {
   "cell_type": "markdown",
   "id": "766a3488",
   "metadata": {},
   "source": [
    "<b>2.2.1 Finding the best cluster"
   ]
  },
  {
   "cell_type": "markdown",
   "id": "304b5482",
   "metadata": {},
   "source": [
    "<b>2.2.2 Run K means and segment data into clusters and generate labels"
   ]
  },
  {
   "cell_type": "markdown",
   "id": "705272af",
   "metadata": {},
   "source": [
    "<b>2.2.3 Remove unlabeled rows"
   ]
  },
  {
   "cell_type": "markdown",
   "id": "a23ba565",
   "metadata": {},
   "source": [
    "<b>let's find how the number of items per cluster"
   ]
  },
  {
   "cell_type": "markdown",
   "id": "9729ea56",
   "metadata": {},
   "source": [
    "<i>based on shops rate"
   ]
  },
  {
   "cell_type": "markdown",
   "id": "3d3bd082",
   "metadata": {},
   "source": [
    "<i>based on shops population and income"
   ]
  },
  {
   "cell_type": "markdown",
   "id": "e4ec7cb3",
   "metadata": {},
   "source": [
    "## Methodology:\n",
    "### Choice of Algorithms <br>\n",
    "I chose K-Means Clustering. <br>\n",
    "https://towardsdatascience.com/clustering-algorithms-for-customer-segmentation-af637c6830ac <br>\n",
    "\n",
    "A backgrounder on K-Means clustering <br>\n",
    "“K-means clustering is an iterative clustering algorithm where the number of clusters K is predetermined and the algorithm iteratively assigns each data <br> point to one of the K clusters based on the feature similarity.” <br>\n",
    "\n",
    "***  Key Observation: And for my project feature similarity means restaurant similarity in Neighborhoods *** <br>\n",
    "\n",
    "### Choosing the correct number of clusters. <br>\n",
    "https://www.jeremyjordan.me/grouping-data-points-with-k-means-clustering/ <br>\n",
    "Here I use Silhouette analysis to determine the optimum number of clusters to use. <br>\n",
    "\n",
    "A backgrounder on Silhouette analysis.\n",
    "\n",
    "“We can use Silhouette analysis to evaluate each model. A Silhouette coefficient is calculated for observation, which is then averaged to determine the Silhouette score. <br>\n",
    "The coefficient combines the average within-cluster distance with average nearest-cluster distance to assign a value between -1 and 1. A value below zero  <br>denotes that the observation is probably in the wrong cluster and a value closer to 1 denotes that the observation is a great fit for the cluster and  <br>clearly separated from other clusters. This coefficient essentially measures how close an observation is to neighboring clusters, where it is desirable <br> to be the maximum distance possible from neighboring clusters. <br>\n",
    "We can automatically determine the best number of clusters, k, by selecting the model which yields the highest Silhouette score.” <br>\n",
    "\n",
    "*** Key Observation: My highest score was 2. *** <br>\n",
    "\n",
    "### 2.1 Run K means and segment data into clusters and generate labels\n",
    "\n",
    "### 2.2 Merge the Toronto data with geo coordinates data and make sure it's the right shape<br>\n",
    "Here I reshape the Toronto data so that it’s shape matches the clustered data.<br>\n",
    "\n",
    "### 2.3 Add the KMeans Labels\n",
    "Determine the largest cluster in this case it was cluster number 2 with a shape of <br>\n",
    "(76, 15)\n",
    "\n",
    "### 3. Cluster 2 Contains the highest cluster density. We need to find the geographic centroid for this cluster. This is the optimum location for a new Restaurant Supply Store.<br>\n",
    "Here we take the average latitude and longitude to be the centroid.<br>\n",
    "\n",
    "### 3.1 Install opencage to reverse lookup the coordinates\n",
    "Opencage allows me to reverse lookup the geo coordinates. <br>\n",
    "*** Key Observation: This is the optimum location for a new Restaurant Supply Store.***\n",
    "\n",
    "\n",
    "\n",
    "\n"
   ]
  },
  {
   "cell_type": "markdown",
   "id": "553c1ae2",
   "metadata": {},
   "source": [
    "<h3>3.Results"
   ]
  },
  {
   "cell_type": "markdown",
   "id": "5c18cc3d",
   "metadata": {},
   "source": [
    "<b>As we can see based on income and population the '1' PI_Clabels is more popular so the data we wan to show on the map will be"
   ]
  },
  {
   "cell_type": "markdown",
   "id": "8a2f8bca",
   "metadata": {},
   "source": [
    "Let's see means of income and population of this each PI_Clabels"
   ]
  },
  {
   "cell_type": "markdown",
   "id": "01a9050d",
   "metadata": {},
   "source": [
    "Let's see the distribution of shops"
   ]
  },
  {
   "cell_type": "markdown",
   "id": "c1c5a477",
   "metadata": {},
   "source": [
    "<i> Location based on shop cluster </i>"
   ]
  },
  {
   "cell_type": "markdown",
   "id": "5dd35977",
   "metadata": {},
   "source": [
    "![](https://i0.wp.com/s1.uphinh.org/2021/05/13/map.png)"
   ]
  },
  {
   "cell_type": "markdown",
   "id": "79abb624",
   "metadata": {},
   "source": [
    "## Discussion:\n",
    "\n",
    "### 5.1 Explaining the results\n",
    "\n",
    "As we built our list of neighborhoods with coffee shop venues exclusively we discovered most neighborhoods were similar and the greatest concentration of coffee was in downtown Toronto and east Toronto. This might seem obvious but it would also appear that these are some of the most affluent neighborhoods in Toronto so there appears to be correlation. By Locating in the general vicinity of the Exact location my friend could be geographically centered in this cluster and poised to service his restaurant customer base with the greatest efficiency.<br>\n",
    "When we built our K-Means dataset we used Silhouette analysis to tell us there was a lot of similarity between neighborhoods and the most common coffeeshop contained with in. Really there were 8 types of cluster or neighborhoods in greater Toronto. The vast majority of those were in 0 cluster. So Toronto coffeeshop might be many but they are very homogeneously located near the center or downtown of Toronto.<br>\n",
    "After using Kmeans for population and income rate, we realized there are 2 types of cluster, and most of those were in 0 cluster. This means Toronto has 2 types of income and population area, and the most common is cluster 0 with are 84% of location.\n",
    "After Combine two condittions we found that the best place to locate our new coffee shop <b>is around downtown and east Toronto, near the beach or University of Toronto.</b>"
   ]
  },
  {
   "cell_type": "markdown",
   "id": "3475f7b1",
   "metadata": {},
   "source": [
    "<h3>Conclusion:</h3>\n",
    "I feel confident with the recommendation I have given my friend as it is backed up with demonstrated data analysis. While nothing can ever be 100% certain he will certainly be better informed than he was prior to asking for my help.\n",
    "Much more inference can be obtained with more work. A potential side business for my friend might be assisting new restaurant owners where they might locate a new restaurant, who their competition is and who their clientele might be."
   ]
  }
 ],
 "metadata": {
  "kernelspec": {
   "display_name": "Python 3",
   "language": "python",
   "name": "python3"
  },
  "language_info": {
   "codemirror_mode": {
    "name": "ipython",
    "version": 3
   },
   "file_extension": ".py",
   "mimetype": "text/x-python",
   "name": "python",
   "nbconvert_exporter": "python",
   "pygments_lexer": "ipython3",
   "version": "3.7.9"
  }
 },
 "nbformat": 4,
 "nbformat_minor": 5
}
